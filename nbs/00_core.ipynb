{
 "cells": [
  {
   "cell_type": "markdown",
   "id": "41614733-5893-41d7-a9f7-5e085c7a1368",
   "metadata": {},
   "source": [
    "# Linear Regression Tutorial\n",
    "__\n",
    "\n",
    "\n",
    "In this tutorial you will perform a linear regression and make the machine learn.\n",
    "Now, to run a code block in Jupyter Notebooks, click into it and hit ctrl + enter.\n",
    "If the key command doesn't work, hit the triangle button in the upper left.\n",
    "The first step, of course, is to load the data. We will be using a dataset of shampoo sales over 3 years."
   ]
  },
  {
   "cell_type": "code",
   "execution_count": 3,
   "id": "87d0b82e-f596-4c14-8a8d-753d9aaf69e8",
   "metadata": {},
   "outputs": [
    {
     "name": "stdout",
     "output_type": "stream",
     "text": [
      "[266.0, 145.9, 183.1, 119.3, 180.3]\n",
      "[datetime.date(1991, 1, 1), datetime.date(1991, 2, 1)]\n"
     ]
    }
   ],
   "source": [
    "import csv\n",
    "import datetime as dt\n",
    "\n",
    "with open(\"shampoo.csv\", \"r\") as shamwow:\n",
    "    data = list(csv.reader(shamwow))[1:]\n",
    "\n",
    "\n",
    "# Convert the sales into a float\n",
    "sales = [float(point[1]) for point in data]\n",
    "dates = [dt.datetime.strptime(\"199\" + point[0],'%Y-%m').date() \n",
    "         for point in data]\n",
    "\n",
    "print(sales[0:5])\n",
    "print(dates[0:2])"
   ]
  },
  {
   "cell_type": "markdown",
   "id": "68f0cb7a-5c97-4aba-afc0-f2917c704464",
   "metadata": {},
   "source": [
    "Let's plot the data in a plot that's as scattered as my brain while writing this tutorial:"
   ]
  },
  {
   "cell_type": "code",
   "execution_count": 4,
   "id": "e94ed5a9-d648-4fe8-99c3-dec2cbb4f155",
   "metadata": {},
   "outputs": [
    {
     "data": {
      "image/png": "[encoded data removed]",
      "text/plain": [
       "<Figure size 640x480 with 1 Axes>"
      ]
     },
     "metadata": {},
     "output_type": "display_data"
    }
   ],
   "source": [
    "# Linear Regression Tutorial\n",
    "\n",
    "import matplotlib.pyplot as plt\n",
    "import matplotlib.dates as mdates\n",
    "\n",
    "# Format X-axis properly\n",
    "plt.gca().xaxis.set_major_formatter(mdates.DateFormatter('%m/%Y'))\n",
    "plt.gca().xaxis.set_major_locator(mdates.MonthLocator(interval=5))\n",
    "plt.gcf().autofmt_xdate()\n",
    "\n",
    "# Plot with X-axis as date and Y-axis as sales\n",
    "points = plt.scatter(dates, sales)"
   ]
  },
  {
   "cell_type": "markdown",
   "id": "6c248af4-03a9-407a-888d-0ae048c60e0d",
   "metadata": {},
   "source": [
    "Now let's perform the actual linear regression. We're fitting the data to a line. What degree polynomial does that correspond to? Hopefully I have at least that many degrees by the time I leave college..."
   ]
  },
  {
   "cell_type": "code",
   "execution_count": 5,
   "id": "b648e2ec-3f97-4957-9dd4-6688d44cbca2",
   "metadata": {},
   "outputs": [],
   "source": [
    "import numpy as np\n",
    "\n",
    "# Converting the datetime objects into an integer\n",
    "counter = 1\n",
    "numeric_months = []\n",
    "for date in dates:\n",
    "    numeric_months.append(counter)\n",
    "    counter += 1\n",
    "\n",
    "# Linear regression using a polynomial of a certain degree\n",
    "linear_regression = np.polyfit(numeric_months, sales, 1)"
   ]
  },
  {
   "cell_type": "markdown",
   "id": "b1e62ad3-7fa7-40a5-a9de-6103ecc80252",
   "metadata": {},
   "source": [
    "Remember like 5 years ago when you learned about slope-intercept form? Y'know, y = mx + b where m is the slope and b is the y-intercept? Don't ask me why I still remember that, but we're gonna use it now to plot the linear regression line:"
   ]
  },
  {
   "cell_type": "code",
   "execution_count": 4,
   "id": "92fe57df-597e-4b68-939d-456427a26f90",
   "metadata": {},
   "outputs": [
    {
     "ename": "SyntaxError",
     "evalue": "invalid syntax (3310441371.py, line 17)",
     "output_type": "error",
     "traceback": [
      "\u001b[0;36m  Cell \u001b[0;32mIn[4], line 17\u001b[0;36m\u001b[0m\n\u001b[0;31m    line = plt.axline((0, ?), slope=?, color=\"red\")\u001b[0m\n\u001b[0m                          ^\u001b[0m\n\u001b[0;31mSyntaxError\u001b[0m\u001b[0;31m:\u001b[0m invalid syntax\n"
     ]
    }
   ],
   "source": [
    "import matplotlib.ticker as ticker\n",
    "\n",
    "m, b = linear_regression\n",
    "\n",
    "# Replicate the same formatting as the dates\n",
    "formatted_dates = [date.strftime('%m/%Y') for date in dates]\n",
    "formatted_dates.insert(0, \"12/1990\")\n",
    "ticks = [0] + numeric_months\n",
    "\n",
    "# Plot with X-axis as dates\n",
    "plt.gca().set_xticks(ticks, formatted_dates)\n",
    "plt.gcf().autofmt_xdate()\n",
    "plt.gca().xaxis.set_major_locator(ticker.MultipleLocator(5))\n",
    "points = plt.scatter(numeric_months, sales)\n",
    "\n",
    "# One of them is the Y-intercept, and one of them is slope\n",
    "line = plt.axline((0, ?), slope=?, color=\"red\")"
   ]
  },
  {
   "cell_type": "markdown",
   "id": "d6f3bcfd-f768-4e65-8f31-652f94bfbe5a",
   "metadata": {},
   "source": [
    "Congratulations, you did it! Now go to the upper left corner, hit file, press new, open a terminal, get to the right directory, and type\n",
    "quarto render 00_core.ipynb --to docx\n",
    "\n",
    "Then, simply convert it to a PDF and email it to Alejandro and CC Prof. Poshyvanyk!"
   ]
  },
  {
   "cell_type": "code",
   "execution_count": null,
   "id": "d13e07e7-d453-409f-9955-30e64d6a5ceb",
   "metadata": {},
   "outputs": [],
   "source": []
  }
 ],
 "metadata": {
  "kernelspec": {
   "display_name": "Python 3 (ipykernel)",
   "language": "python",
   "name": "python3"
  },
  "language_info": {
   "codemirror_mode": {
    "name": "ipython",
    "version": 3
   },
   "file_extension": ".py",
   "mimetype": "text/x-python",
   "name": "python",
   "nbconvert_exporter": "python",
   "pygments_lexer": "ipython3",
   "version": "3.9.6"
  }
 },
 "nbformat": 4,
 "nbformat_minor": 5
}
